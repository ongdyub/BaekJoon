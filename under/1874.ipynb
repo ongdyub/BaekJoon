{
 "cells": [
  {
   "cell_type": "code",
   "execution_count": 2,
   "metadata": {},
   "outputs": [
    {
     "name": "stdout",
     "output_type": "stream",
     "text": [
      "deque([1, 2, 3, 4, 5, 6, 7, 8])\n",
      "8\n"
     ]
    }
   ],
   "source": [
    "# 1847\n",
    "\n",
    "from collections import deque\n",
    "\n",
    "n = int(input())\n",
    "\n",
    "# container = deque([i for i in range(1, n+1)])\n",
    "base = deque([1])\n",
    "# print(container)\n",
    "# print(container.pop())\n",
    "ans = ''\n",
    "\n",
    "check = int(input())\n",
    "\n",
    "while True:\n",
    "    cur = base.pop()\n",
    "    \n",
    "    if check > cur:\n",
    "        base.appendleft(cur)\n",
    "        cur += 1\n",
    "        ans += '+'\n",
    "    elif check == cur:\n",
    "        cur = base.popleft()\n",
    "        ans += '+-'\n",
    "        check = int(input())\n",
    "            \n",
    "        \n",
    "    \n",
    "    \n",
    "    \n",
    "    \n",
    "    "
   ]
  },
  {
   "cell_type": "code",
   "execution_count": 15,
   "metadata": {},
   "outputs": [
    {
     "name": "stdout",
     "output_type": "stream",
     "text": [
      "yes\n",
      "yes\n",
      "no\n",
      "no\n",
      "no\n",
      "yes\n",
      "yes\n",
      "yes\n"
     ]
    }
   ],
   "source": [
    "from collections import deque\n",
    "\n",
    "while True:\n",
    "    string = input()\n",
    "    Q1 = deque()\n",
    "    ans = ''\n",
    "    if string == '.':\n",
    "        break\n",
    "    else:\n",
    "        for s in string:\n",
    "            if s == '(' or s == '[':\n",
    "                Q1.append(s)\n",
    "                \n",
    "            elif s == ')':\n",
    "                if len(Q1) == 0:\n",
    "                    ans = 'no'\n",
    "                    Q1.append('.')\n",
    "                    break\n",
    "                else:\n",
    "                    t = Q1.pop()\n",
    "                    if t == '[':\n",
    "                        ans = 'no'\n",
    "                        Q1.append('.')\n",
    "                        break\n",
    "                    \n",
    "            elif s == ']':\n",
    "                if len(Q1) == 0:\n",
    "                    ans = 'no'\n",
    "                    Q1.append('.')\n",
    "                    break\n",
    "                else:\n",
    "                    t = Q1.pop()\n",
    "                    if t == '(':\n",
    "                        ans = 'no'\n",
    "                        Q1.append('.')\n",
    "                        break\n",
    "\n",
    "        if len(Q1) == 0:\n",
    "            ans = 'yes'\n",
    "        else:\n",
    "            ans = 'no'\n",
    "        print(ans)\n",
    "            "
   ]
  },
  {
   "cell_type": "code",
   "execution_count": 18,
   "metadata": {},
   "outputs": [
    {
     "name": "stdout",
     "output_type": "stream",
     "text": [
      "7\n"
     ]
    }
   ],
   "source": [
    "# 10773\n",
    "\n",
    "from collections import deque\n",
    "\n",
    "Q = deque()\n",
    "\n",
    "N = int(input())\n",
    "\n",
    "for _ in range(N):\n",
    "    num = int(input())\n",
    "    \n",
    "    if num == 0:\n",
    "        Q.pop()\n",
    "    else:\n",
    "        Q.append(num)\n",
    "        \n",
    "print(sum(Q))"
   ]
  },
  {
   "cell_type": "code",
   "execution_count": 23,
   "metadata": {},
   "outputs": [
    {
     "name": "stdout",
     "output_type": "stream",
     "text": [
      "9\n"
     ]
    }
   ],
   "source": [
    "# 15829\n",
    "\n",
    "N = int(input())\n",
    "r = 1\n",
    "M = 1234567891\n",
    "\n",
    "string = input()\n",
    "gkq = 0\n",
    "\n",
    "for s in string:\n",
    "    \n",
    "    gkq += (((ord(s)-96) * r))\n",
    "    \n",
    "    r *= 31\n",
    "    r %= M\n",
    "\n",
    "print(gkq%M)"
   ]
  },
  {
   "cell_type": "code",
   "execution_count": 48,
   "metadata": {},
   "outputs": [
    {
     "name": "stdout",
     "output_type": "stream",
     "text": [
      "0\n"
     ]
    }
   ],
   "source": [
    "# 18110\n",
    "\n",
    "n = int(input())\n",
    "\n",
    "score = []\n",
    "\n",
    "for _ in range(n):\n",
    "    score.append(int(input()))\n",
    "\n",
    "if n == 0:\n",
    "    print(0)\n",
    "    \n",
    "elif n < 4:\n",
    "    print(round(sum(score)/len(score)))\n",
    "else:\n",
    "    \n",
    "    cut = round(n * 0.15)\n",
    "    # print(cut)\n",
    "    score.sort()\n",
    "    # print(score)\n",
    "    score = score[cut:]\n",
    "    # print(score)\n",
    "    score = score[:-cut]\n",
    "    # print(score)\n",
    "    print(round(sum(score) / len(score)))"
   ]
  },
  {
   "cell_type": "code",
   "execution_count": 72,
   "metadata": {},
   "outputs": [
    {
     "name": "stdout",
     "output_type": "stream",
     "text": [
      "22\n"
     ]
    }
   ],
   "source": [
    "# 28702\n",
    "\n",
    "first = input()\n",
    "second = input()\n",
    "third = input()\n",
    "\n",
    "try:\n",
    "    num = int(first)\n",
    "    if num % 15 == 1:\n",
    "        print(num+3)\n",
    "    elif num % 15 == 2:\n",
    "        print(\"Buzz\")\n",
    "    elif num % 15 == 4:\n",
    "        print(num+3)\n",
    "    elif num % 15 == 7:\n",
    "        print(\"Buzz\")\n",
    "    elif num % 15 == 8:\n",
    "        print(num+3)\n",
    "    elif num % 15 == 11:\n",
    "        print(num+3)\n",
    "    elif num % 15 == 13:\n",
    "        print(num+3)\n",
    "    elif num % 15 == 14:\n",
    "        print(num+3)\n",
    "except:\n",
    "    if first == 'Fizz':\n",
    "        if second == 'Buzz':\n",
    "            print('Fizz')\n",
    "        else:\n",
    "            if third == 'Buzz':\n",
    "                print(\"Fizz\")\n",
    "            else:\n",
    "                if int(third) % 15 == 14:\n",
    "                    print(\"FizzBuzz\")\n",
    "                else:\n",
    "                    print(\"Fizz\")\n",
    "    \n",
    "    elif first == 'Buzz':\n",
    "        if second == 'Fizz':\n",
    "            print(int(third)+1)\n",
    "        else:\n",
    "            print(int(second)+2)\n",
    "    elif first == 'FizzBuzz':\n",
    "        print('Fizz')\n"
   ]
  },
  {
   "cell_type": "code",
   "execution_count": 105,
   "metadata": {},
   "outputs": [
    {
     "name": "stdout",
     "output_type": "stream",
     "text": [
      "2\n"
     ]
    }
   ],
   "source": [
    "# 1654\n",
    "N, K = map(int, input().split(' '))\n",
    "\n",
    "length = []\n",
    "\n",
    "for i in range(N):\n",
    "    length.append(int(input()))\n",
    "\n",
    "short = 1\n",
    "long = max(length)\n",
    "\n",
    "while True:\n",
    "    # if N == K:\n",
    "    #     print(short)\n",
    "    #     break\n",
    "    \n",
    "    if N == 1:\n",
    "        print(long//K)\n",
    "        break\n",
    "    \n",
    "    if long == short:\n",
    "        print(long)\n",
    "        break\n",
    "    if long - short == 1:\n",
    "        cnt = sum([i//long for i in length])\n",
    "        if cnt == K:\n",
    "            print(long)\n",
    "        else:\n",
    "            print(short)\n",
    "        break\n",
    "    \n",
    "    mid = (short+long)//2\n",
    "    # print(mid)\n",
    "    cnt = sum([i//mid for i in length])\n",
    "    # print(cnt)\n",
    "    if cnt < K:\n",
    "        long = mid\n",
    "    elif cnt >= K:\n",
    "        short = mid\n",
    "    # else:\n",
    "    #     break\n",
    "    \n",
    "    \n",
    "\n",
    "# for check in range(mid, long+1):\n",
    "#     cnt = sum([i//check for i in length])\n",
    "#     if cnt < K:\n",
    "#         print(check-1)\n",
    "#         break\n",
    "    "
   ]
  },
  {
   "cell_type": "code",
   "execution_count": 110,
   "metadata": {},
   "outputs": [
    {
     "name": "stdout",
     "output_type": "stream",
     "text": [
      "1\n",
      "2\n",
      "5\n"
     ]
    }
   ],
   "source": [
    "# 1966\n",
    "\n",
    "from collections import deque\n",
    "\n",
    "__ = int(input())\n",
    "\n",
    "for _ in range(__):\n",
    "    N, M = map(int, input().split(' '))\n",
    "    \n",
    "    idx_list = [i for i in range(N)]\n",
    "    idx_Q = deque(idx_list)\n",
    "    \n",
    "    paper_list = list(map(int, input().split(' ')))\n",
    "    paper_Q = deque(paper_list)\n",
    "    \n",
    "    paper_list.sort()\n",
    "    score_Q = deque(paper_list)\n",
    "    \n",
    "    # print(idx_Q)\n",
    "    # print(paper_Q)\n",
    "    # print(score_Q)\n",
    "    \n",
    "    cnt = 1\n",
    "    \n",
    "    while True:\n",
    "        cur_idx = idx_Q.popleft()\n",
    "        cur_paper = paper_Q.popleft()\n",
    "        cur_score = score_Q.pop()\n",
    "        \n",
    "        if cur_paper < cur_score:\n",
    "            # 점수 미달, 다시 넣기\n",
    "            score_Q.append(cur_score)\n",
    "            paper_Q.append(cur_paper)\n",
    "            idx_Q.append(cur_idx)\n",
    "        else:\n",
    "            # idx check\n",
    "            if cur_idx == M:\n",
    "                print(cnt)\n",
    "                break\n",
    "            else:\n",
    "                cnt += 1\n",
    "            \n",
    "    \n",
    "    \n",
    "    "
   ]
  },
  {
   "cell_type": "code",
   "execution_count": 106,
   "metadata": {},
   "outputs": [
    {
     "name": "stdout",
     "output_type": "stream",
     "text": [
      "0\n"
     ]
    }
   ],
   "source": [
    "print(1//2)"
   ]
  },
  {
   "cell_type": "code",
   "execution_count": 84,
   "metadata": {},
   "outputs": [
    {
     "name": "stdout",
     "output_type": "stream",
     "text": [
      "[5, 3, 2, 1]\n"
     ]
    },
    {
     "ename": "TypeError",
     "evalue": "unsupported operand type(s) for //: 'list' and 'int'",
     "output_type": "error",
     "traceback": [
      "\u001b[0;31m---------------------------------------------------------------------------\u001b[0m",
      "\u001b[0;31mTypeError\u001b[0m                                 Traceback (most recent call last)",
      "Cell \u001b[0;32mIn[84], line 3\u001b[0m\n\u001b[1;32m      1\u001b[0m t \u001b[38;5;241m=\u001b[39m [\u001b[38;5;241m5\u001b[39m,\u001b[38;5;241m3\u001b[39m,\u001b[38;5;241m2\u001b[39m,\u001b[38;5;241m1\u001b[39m]\n\u001b[1;32m      2\u001b[0m \u001b[38;5;28mprint\u001b[39m(t)\n\u001b[0;32m----> 3\u001b[0m \u001b[38;5;28mprint\u001b[39m(\u001b[43mt\u001b[49m\u001b[38;5;241;43m/\u001b[39;49m\u001b[38;5;241;43m/\u001b[39;49m\u001b[38;5;241;43m2\u001b[39;49m)\n",
      "\u001b[0;31mTypeError\u001b[0m: unsupported operand type(s) for //: 'list' and 'int'"
     ]
    }
   ],
   "source": [
    "t = [5,3,2,1]\n",
    "print(t)\n",
    "print(t//2)"
   ]
  },
  {
   "cell_type": "code",
   "execution_count": 3,
   "metadata": {},
   "outputs": [
    {
     "name": "stdout",
     "output_type": "stream",
     "text": [
      "[5, 4, 3, 2, 1]\n",
      "12\n",
      "9\n",
      "1\n"
     ]
    }
   ],
   "source": [
    "N, M = map(int, input().split(' '))\n",
    "\n",
    "nums = list(map(int, input().split(' ')))\n",
    "\n",
    "dp = [[0]*(N+1) for i in range(N+1)]\n",
    "# print(nums)\n",
    "# init\n",
    "for i in range(1,N+1):\n",
    "    dp[i][i] = nums[i-1]\n",
    "    \n",
    "# fill\n",
    "for _ in range(2,N+1):\n",
    "    for __ in range(N-_+1):\n",
    "        dp[1+__][_+__] = dp[1+__][_+__-1] + dp[_+__][_+__]\n",
    "        \n",
    "for _ in range(M):\n",
    "    s, e = map(int, input().split(' '))\n",
    "    print(dp[s][e])\n",
    "\n"
   ]
  },
  {
   "cell_type": "code",
   "execution_count": 5,
   "metadata": {},
   "outputs": [
    {
     "name": "stdout",
     "output_type": "stream",
     "text": [
      "[1, 0, 0, 0, 1, 0, 0, 1]\n",
      "3\n"
     ]
    }
   ],
   "source": [
    "# 2606\n",
    "from collections import deque\n",
    "\n",
    "Q = deque([1])\n",
    "N = int(input())\n",
    "_ = int(input())\n",
    "\n",
    "visit = [1] * (N+1)\n",
    "\n",
    "graph = [[0]*(N+1) for i in range(N+1)]\n",
    "\n",
    "for __ in range(_):\n",
    "    s, e = map(int, input().split(' '))\n",
    "    graph[s][e] = 1\n",
    "    graph[e][s] = 1\n",
    "\n",
    "while len(Q) > 0:\n",
    "    cur = Q.popleft()\n",
    "    \n",
    "    visit[cur] = 0\n",
    "    \n",
    "    for i in range(1, N+1):\n",
    "        if graph[cur][i] == 1 and visit[i] == 1:\n",
    "            visit[i] = 0\n",
    "            Q.append(i)\n",
    "# print(visit)            \n",
    "print(N-sum(visit))"
   ]
  },
  {
   "cell_type": "code",
   "execution_count": 9,
   "metadata": {},
   "outputs": [
    {
     "name": "stdout",
     "output_type": "stream",
     "text": [
      "[]\n",
      "[0]\n",
      "[1]\n",
      "[0, 1]\n"
     ]
    }
   ],
   "source": [
    "import itertools\n",
    "\n",
    "def generate_subsets(n):\n",
    "    # Create a list of numbers from 0 to n\n",
    "    nums = list(range(n + 1))\n",
    "\n",
    "    # Generate all subsets\n",
    "    all_subsets = []\n",
    "    for i in range(len(nums) + 1):\n",
    "        subsets = itertools.combinations(nums, i)\n",
    "        all_subsets.extend(subsets)\n",
    "    \n",
    "    # Convert subsets from tuples to lists\n",
    "    all_subsets = [list(subset) for subset in all_subsets]\n",
    "\n",
    "    return all_subsets\n",
    "\n",
    "# Example usage:\n",
    "n = 1  # Example input\n",
    "subsets = generate_subsets(n)\n",
    "for subset in subsets:\n",
    "    print(subset)\n"
   ]
  },
  {
   "cell_type": "code",
   "execution_count": 17,
   "metadata": {},
   "outputs": [
    {
     "name": "stdout",
     "output_type": "stream",
     "text": [
      "0\n"
     ]
    }
   ],
   "source": [
    "import itertools\n",
    "\n",
    "N = int(input())\n",
    "\n",
    "def generate_subsets(n):\n",
    "    # Create a list of numbers from 0 to n\n",
    "    nums = list(range(n + 1))\n",
    "\n",
    "    # Generate all subsets\n",
    "    all_subsets = []\n",
    "    for i in range(len(nums) + 1):\n",
    "        subsets = itertools.combinations(nums, i)\n",
    "        all_subsets.extend(subsets)\n",
    "    \n",
    "    # Convert subsets from tuples to lists\n",
    "    all_subsets = [list(subset) for subset in all_subsets]\n",
    "\n",
    "    return all_subsets\n",
    "\n",
    "for _ in range(N):\n",
    "    __ = int(input())\n",
    "    dic = {}\n",
    "    part_idx = 0\n",
    "    num = []\n",
    "    ans = 0\n",
    "    for ___ in range(__):\n",
    "        name, part = input().split(' ')\n",
    "        if part in dic:\n",
    "            num[dic[part]] += 1\n",
    "        else:\n",
    "            dic[part] = part_idx\n",
    "            num.append(1)\n",
    "            part_idx += 1\n",
    "            \n",
    "    \n",
    "    subsets = generate_subsets(len(num)-1)[1:]\n",
    "    # print(subsets)\n",
    "    # print(num)\n",
    "    \n",
    "    for sub in subsets:\n",
    "        accum = 1\n",
    "        for index in sub:\n",
    "            accum *= num[index]\n",
    "        ans += accum\n",
    "    print(ans)\n",
    "            "
   ]
  },
  {
   "cell_type": "code",
   "execution_count": 19,
   "metadata": {},
   "outputs": [
    {
     "name": "stdout",
     "output_type": "stream",
     "text": [
      "0\n"
     ]
    }
   ],
   "source": [
    "import itertools\n",
    "\n",
    "N = int(input())\n",
    "\n",
    "for _ in range(N):\n",
    "    __ = int(input())\n",
    "    dic = {}\n",
    "    part_idx = 0\n",
    "    num = []\n",
    "    ans = 0\n",
    "    for ___ in range(__):\n",
    "        name, part = input().split(' ')\n",
    "        if part in dic:\n",
    "            num[dic[part]] += 1\n",
    "        else:\n",
    "            dic[part] = part_idx\n",
    "            num.append(1)\n",
    "            part_idx += 1\n",
    "    accum = 1\n",
    "    for n in num:\n",
    "        accum *= (n+1)\n",
    "        \n",
    "    print(accum - 1)\n",
    "            "
   ]
  },
  {
   "cell_type": "code",
   "execution_count": 27,
   "metadata": {},
   "outputs": [
    {
     "name": "stdout",
     "output_type": "stream",
     "text": [
      "5\n"
     ]
    }
   ],
   "source": [
    "n = int(input())\n",
    "\n",
    "ans = [0]*(n+1)\n",
    "\n",
    "ans[1] = 1\n",
    "ans[2] = 3\n",
    "ans[3] = 5\n",
    "\n",
    "\n",
    "for i in range(3, n+1):\n",
    "    ans[i] = ans[i-1] + ans[i-2]*2\n",
    "\n",
    "print(ans[n])"
   ]
  },
  {
   "cell_type": "code",
   "execution_count": 54,
   "metadata": {},
   "outputs": [
    {
     "name": "stdout",
     "output_type": "stream",
     "text": [
      "4\n"
     ]
    }
   ],
   "source": [
    "# 17626\n",
    "\n",
    "n = int(input())\n",
    "m = 1\n",
    "detect = False\n",
    "first = []\n",
    "while not detect:\n",
    "    if m**2 > n:\n",
    "        break\n",
    "    elif m**2 == n:\n",
    "        print(1)\n",
    "        detect = True\n",
    "        break\n",
    "    else:\n",
    "        first.append(m**2)\n",
    "        m += 1\n",
    "        \n",
    "new = []\n",
    "if detect:\n",
    "    pass\n",
    "else:\n",
    "    find = False\n",
    "    for f_1 in first:\n",
    "        if find:\n",
    "            break\n",
    "        for f_2 in first:\n",
    "            num = f_1+f_2\n",
    "            if num == n:\n",
    "                print(2)\n",
    "                find=True\n",
    "                detect=True\n",
    "                break\n",
    "            elif num < n:\n",
    "                new.append(num)\n",
    "            else:\n",
    "                continue\n",
    "        \n",
    "if detect:\n",
    "    pass\n",
    "else:\n",
    "    find = False\n",
    "    for f_1 in new:\n",
    "        if find:\n",
    "            break\n",
    "        for f_2 in first:\n",
    "            num = f_1+f_2\n",
    "            if num == n:\n",
    "                print(3)\n",
    "                find=True\n",
    "                detect=True\n",
    "                break\n",
    "            elif num < n:\n",
    "                continue\n",
    "            else:\n",
    "                continue\n",
    "\n",
    "if detect:\n",
    "    pass\n",
    "else:\n",
    "    print(4)\n",
    "                "
   ]
  },
  {
   "cell_type": "code",
   "execution_count": 2,
   "metadata": {},
   "outputs": [
    {
     "name": "stdout",
     "output_type": "stream",
     "text": [
      "['1', '', '2', '', '', '5']\n",
      "6\n"
     ]
    }
   ],
   "source": [
    "cmd = input().split(' ')\n",
    "print(cmd)\n",
    "print(len(cmd))"
   ]
  },
  {
   "cell_type": "code",
   "execution_count": 4,
   "metadata": {},
   "outputs": [
    {
     "name": "stdout",
     "output_type": "stream",
     "text": [
      "['1', '4', '', '5', '', '', '']\n",
      "4\n"
     ]
    }
   ],
   "source": [
    "cmd = input().split(' ')\n",
    "ans = 0\n",
    "\n",
    "for c in cmd:\n",
    "    if not len(c):\n",
    "        ans += 1\n",
    "print(cmd)\n",
    "print(ans)"
   ]
  }
 ],
 "metadata": {
  "kernelspec": {
   "display_name": "Python 3",
   "language": "python",
   "name": "python3"
  },
  "language_info": {
   "codemirror_mode": {
    "name": "ipython",
    "version": 3
   },
   "file_extension": ".py",
   "mimetype": "text/x-python",
   "name": "python",
   "nbconvert_exporter": "python",
   "pygments_lexer": "ipython3",
   "version": "3.11.7"
  }
 },
 "nbformat": 4,
 "nbformat_minor": 2
}

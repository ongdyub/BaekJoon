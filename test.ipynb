{
 "cells": [
  {
   "cell_type": "code",
   "execution_count": 2,
   "metadata": {},
   "outputs": [
    {
     "name": "stdout",
     "output_type": "stream",
     "text": [
      "['02-03-2012', '10-05-2015', '22-09-2019', '15-12-2020']\n"
     ]
    }
   ],
   "source": [
    "date_strings = ['02-03-2012', '15-12-2020', '10-05-2015', '22-09-2019']\n",
    "\n",
    "# Define a custom sorting key function to convert date strings to sortable integers\n",
    "def custom_key(date_string):\n",
    "    day, month, year = map(int, date_string.split('-'))\n",
    "    return (year, month, day)\n",
    "\n",
    "sorted_date_strings = sorted(date_strings, key=custom_key)\n",
    "\n",
    "print(sorted_date_strings)\n",
    "\n"
   ]
  },
  {
   "cell_type": "code",
   "execution_count": 3,
   "metadata": {},
   "outputs": [
    {
     "name": "stdout",
     "output_type": "stream",
     "text": [
      "[['02-02-02', 421, 'dsaf'], ['06-01-1231', 421, 'dsaf'], ['02-01-2123', 421, 'dsaf'], ['02-01-6324', 421, 'dsaf']]\n"
     ]
    }
   ],
   "source": [
    "date_strings = [['02-01-2123', 421, 'dsaf'], ['06-01-1231', 421, 'dsaf'], ['02-01-6324', 421, 'dsaf'], ['02-02-02', 421, 'dsaf']]\n",
    "\n",
    "# Define a custom sorting key function to convert the first element of each sublist to a sortable integer\n",
    "def custom_key(item):\n",
    "    date_string = item[0]\n",
    "    day, month, year = map(int, date_string.split('-'))\n",
    "    return (year, month, day)\n",
    "\n",
    "sorted_date_strings = sorted(date_strings, key=custom_key)\n",
    "\n",
    "print(sorted_date_strings)\n"
   ]
  },
  {
   "cell_type": "code",
   "execution_count": 4,
   "metadata": {},
   "outputs": [
    {
     "ename": "TypeError",
     "evalue": "list indices must be integers or slices, not tuple",
     "output_type": "error",
     "traceback": [
      "\u001b[0;31m---------------------------------------------------------------------------\u001b[0m",
      "\u001b[0;31mTypeError\u001b[0m                                 Traceback (most recent call last)",
      "\u001b[1;32m/Users/handong-yeob/baekjoon/test.ipynb 셀 3\u001b[0m line \u001b[0;36m2\n\u001b[1;32m      <a href='vscode-notebook-cell:/Users/handong-yeob/baekjoon/test.ipynb#W2sZmlsZQ%3D%3D?line=0'>1</a>\u001b[0m dp \u001b[39m=\u001b[39m [[\u001b[39m3\u001b[39m,\u001b[39m1\u001b[39m],[\u001b[39m5\u001b[39m,\u001b[39m2\u001b[39m],[\u001b[39m6\u001b[39m,\u001b[39m1\u001b[39m],[\u001b[39m4\u001b[39m,\u001b[39m5\u001b[39m]]\n\u001b[0;32m----> <a href='vscode-notebook-cell:/Users/handong-yeob/baekjoon/test.ipynb#W2sZmlsZQ%3D%3D?line=1'>2</a>\u001b[0m \u001b[39mprint\u001b[39m(dp[:,\u001b[39m1\u001b[39;49m])\n",
      "\u001b[0;31mTypeError\u001b[0m: list indices must be integers or slices, not tuple"
     ]
    }
   ],
   "source": [
    "dp = [[3,1],[5,2],[6,1],[4,5]]\n",
    "print(dp[:,1])"
   ]
  },
  {
   "cell_type": "code",
   "execution_count": 8,
   "metadata": {},
   "outputs": [
    {
     "name": "stdout",
     "output_type": "stream",
     "text": [
      "2\n",
      "31\n"
     ]
    }
   ],
   "source": [
    "s = '1234123'\n",
    "print(s[1])\n",
    "print('' + s[2] + s[4])"
   ]
  },
  {
   "cell_type": "code",
   "execution_count": 10,
   "metadata": {},
   "outputs": [
    {
     "name": "stdout",
     "output_type": "stream",
     "text": [
      "['apple', 'asdf', 'banana', 'cherry', 'date', 'fig']\n"
     ]
    }
   ],
   "source": [
    "word_list = [\"apple\", \"banana\", \"cherry\", \"date\", \"fig\", 'asdf']\n",
    "\n",
    "# Sort the list lexicographically\n",
    "sorted_word_list = sorted(word_list)\n",
    "\n",
    "print(sorted_word_list)\n"
   ]
  },
  {
   "cell_type": "code",
   "execution_count": 1,
   "metadata": {},
   "outputs": [
    {
     "name": "stdout",
     "output_type": "stream",
     "text": [
      "set()\n",
      "{1}\n",
      "{1}\n"
     ]
    }
   ],
   "source": [
    "a = set([])\n",
    "\n",
    "print(a)\n",
    "\n",
    "a.add(1)\n",
    "print(a)\n",
    "\n",
    "a.add(1)\n",
    "print(a)"
   ]
  },
  {
   "cell_type": "code",
   "execution_count": 8,
   "metadata": {},
   "outputs": [
    {
     "name": "stdout",
     "output_type": "stream",
     "text": [
      "6\n",
      "['The', 'last', 'character', 'is', 'a', 'blank', '']\n"
     ]
    }
   ],
   "source": [
    "cmd = input().split(' ')\n",
    "ans = 0\n",
    "for c in cmd:\n",
    "    if len(c) != 0:\n",
    "        ans +=1\n",
    "\n",
    "print(ans)\n",
    "# print(cmd)"
   ]
  },
  {
   "cell_type": "code",
   "execution_count": 10,
   "metadata": {},
   "outputs": [
    {
     "name": "stdout",
     "output_type": "stream",
     "text": [
      "2\n",
      "1\n",
      "3\n"
     ]
    }
   ],
   "source": [
    "print(int('2'))\n",
    "print(int('0001'))\n",
    "a = '3'\n",
    "print(a[-1])"
   ]
  },
  {
   "cell_type": "code",
   "execution_count": 15,
   "metadata": {},
   "outputs": [
    {
     "name": "stdout",
     "output_type": "stream",
     "text": [
      "[2, 4, 1]\n",
      "[5, 2, 1]\n"
     ]
    }
   ],
   "source": [
    "a = [2,4,1,2,5]\n",
    "print(a[:3])\n",
    "a.reverse()\n",
    "print(a[:3])"
   ]
  },
  {
   "cell_type": "code",
   "execution_count": 17,
   "metadata": {},
   "outputs": [
    {
     "name": "stdout",
     "output_type": "stream",
     "text": [
      "[5, 2, 1, 4, 2]\n",
      "[2, 1, 4, 2]\n",
      "[2, 1, 4]\n"
     ]
    }
   ],
   "source": [
    "print(a)\n",
    "print(a[1:])\n",
    "print(a[1:-1])"
   ]
  },
  {
   "cell_type": "code",
   "execution_count": 20,
   "metadata": {},
   "outputs": [
    {
     "name": "stdout",
     "output_type": "stream",
     "text": [
      "{1: 4}\n"
     ]
    }
   ],
   "source": [
    "a = dict()\n",
    "a = {}\n",
    "a[1] = 4\n",
    "print(a)"
   ]
  },
  {
   "cell_type": "code",
   "execution_count": 25,
   "metadata": {},
   "outputs": [
    {
     "ename": "KeyError",
     "evalue": "2",
     "output_type": "error",
     "traceback": [
      "\u001b[0;31m---------------------------------------------------------------------------\u001b[0m",
      "\u001b[0;31mKeyError\u001b[0m                                  Traceback (most recent call last)",
      "Cell \u001b[0;32mIn[25], line 2\u001b[0m\n\u001b[1;32m      1\u001b[0m b \u001b[38;5;241m=\u001b[39m {}\n\u001b[0;32m----> 2\u001b[0m \u001b[43mb\u001b[49m\u001b[43m[\u001b[49m\u001b[38;5;241;43m2\u001b[39;49m\u001b[43m]\u001b[49m \u001b[38;5;241m+\u001b[39m\u001b[38;5;241m=\u001b[39m \u001b[38;5;241m1\u001b[39m\n\u001b[1;32m      3\u001b[0m \u001b[38;5;28mprint\u001b[39m(b)\n",
      "\u001b[0;31mKeyError\u001b[0m: 2"
     ]
    }
   ],
   "source": [
    "b = {}\n",
    "b[2] += 1\n",
    "print(b)"
   ]
  },
  {
   "cell_type": "code",
   "execution_count": 26,
   "metadata": {},
   "outputs": [
    {
     "name": "stdout",
     "output_type": "stream",
     "text": [
      "[]\n"
     ]
    },
    {
     "ename": "IndexError",
     "evalue": "index out of range",
     "output_type": "error",
     "traceback": [
      "\u001b[0;31m---------------------------------------------------------------------------\u001b[0m",
      "\u001b[0;31mIndexError\u001b[0m                                Traceback (most recent call last)",
      "Cell \u001b[0;32mIn[26], line 5\u001b[0m\n\u001b[1;32m      3\u001b[0m a \u001b[38;5;241m=\u001b[39m []\n\u001b[1;32m      4\u001b[0m \u001b[38;5;28mprint\u001b[39m(a)\n\u001b[0;32m----> 5\u001b[0m \u001b[38;5;28mprint\u001b[39m(\u001b[43mheapq\u001b[49m\u001b[38;5;241;43m.\u001b[39;49m\u001b[43mheappop\u001b[49m\u001b[43m(\u001b[49m\u001b[43ma\u001b[49m\u001b[43m)\u001b[49m)\n\u001b[1;32m      6\u001b[0m \u001b[38;5;28mprint\u001b[39m(a)\n\u001b[1;32m      7\u001b[0m \u001b[38;5;28mprint\u001b[39m(heapq\u001b[38;5;241m.\u001b[39mheappop(a))\n",
      "\u001b[0;31mIndexError\u001b[0m: index out of range"
     ]
    }
   ],
   "source": [
    "import heapq\n",
    "\n",
    "a = []\n",
    "print(a)\n",
    "print(heapq.heappop(a))\n",
    "print(a)\n",
    "print(heapq.heappop(a))\n",
    "print(a)\n",
    "print(heapq.heappop(a))\n",
    "print(a)"
   ]
  },
  {
   "cell_type": "code",
   "execution_count": 27,
   "metadata": {},
   "outputs": [
    {
     "name": "stdout",
     "output_type": "stream",
     "text": [
      "51234\n"
     ]
    },
    {
     "ename": "TypeError",
     "evalue": "unsupported operand type(s) for -: 'str' and 'str'",
     "output_type": "error",
     "traceback": [
      "\u001b[0;31m---------------------------------------------------------------------------\u001b[0m",
      "\u001b[0;31mTypeError\u001b[0m                                 Traceback (most recent call last)",
      "Cell \u001b[0;32mIn[27], line 3\u001b[0m\n\u001b[1;32m      1\u001b[0m a \u001b[38;5;241m=\u001b[39m \u001b[38;5;124m'\u001b[39m\u001b[38;5;124m51234\u001b[39m\u001b[38;5;124m'\u001b[39m\n\u001b[1;32m      2\u001b[0m \u001b[38;5;28mprint\u001b[39m(a)\n\u001b[0;32m----> 3\u001b[0m \u001b[38;5;28mprint\u001b[39m(\u001b[43ma\u001b[49m\u001b[43m \u001b[49m\u001b[38;5;241;43m-\u001b[39;49m\u001b[43m \u001b[49m\u001b[38;5;124;43m'\u001b[39;49m\u001b[38;5;124;43m34\u001b[39;49m\u001b[38;5;124;43m'\u001b[39;49m)\n",
      "\u001b[0;31mTypeError\u001b[0m: unsupported operand type(s) for -: 'str' and 'str'"
     ]
    }
   ],
   "source": [
    "a = '51234'\n",
    "print(a)\n",
    "print(a - '34')"
   ]
  }
 ],
 "metadata": {
  "kernelspec": {
   "display_name": "Python 3",
   "language": "python",
   "name": "python3"
  },
  "language_info": {
   "codemirror_mode": {
    "name": "ipython",
    "version": 3
   },
   "file_extension": ".py",
   "mimetype": "text/x-python",
   "name": "python",
   "nbconvert_exporter": "python",
   "pygments_lexer": "ipython3",
   "version": "3.11.7"
  }
 },
 "nbformat": 4,
 "nbformat_minor": 2
}

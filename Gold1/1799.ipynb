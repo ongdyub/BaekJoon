{
 "cells": [
  {
   "cell_type": "code",
   "execution_count": 34,
   "metadata": {},
   "outputs": [
    {
     "name": "stdout",
     "output_type": "stream",
     "text": [
      "[0, 1, 2, 3, 4, 5, 6, 7, 8, 9, 10, 11, 12, 13, 14]\n",
      "[-7, -6, -5, -4, -3, -2, -1, 0, 1, 2, 3, 4, 5, 6, 7]\n",
      "[[], [], [], [], [], [], [], []]\n"
     ]
    }
   ],
   "source": [
    "size = int(input())\n",
    "chess_map = []\n",
    "\n",
    "eq_sum = list(range(2*size - 1))\n",
    "eq_ab = list(range(-size + 1, size))\n",
    "\n",
    "print(eq_sum)\n",
    "print(eq_ab)\n",
    "\n",
    "\n",
    "for i in range(size):\n",
    "    test = input().split()\n",
    "    row = [int(x) for x in test]\n",
    "    chess_map.append(row)\n",
    "    \n",
    "print(chess_map)"
   ]
  },
  {
   "cell_type": "code",
   "execution_count": 33,
   "metadata": {},
   "outputs": [
    {
     "name": "stdout",
     "output_type": "stream",
     "text": [
      "12\n"
     ]
    }
   ],
   "source": [
    "# size = 5\n",
    "# eq_sum = list(range(2 * size - 1))\n",
    "# eq_ab = list(range(-size + 1, size))\n",
    "# chess_map = [[1,1,0,1,1],[0,1,0,0,0],[1,0,1,0,1],[1,0,0,0,0],[1,0,1,1,1]]\n",
    "\n",
    "size = int(input())\n",
    "chess_map = []\n",
    "\n",
    "# eq_sum = list(range(2 * size - 1))\n",
    "# eq_ab = list(range(-size + 1, size))\n",
    "\n",
    "# print(eq_sum)\n",
    "# print(eq_ab)\n",
    "\n",
    "\n",
    "for i in range(size):\n",
    "    test = input().split()\n",
    "    row = [int(x) for x in test]\n",
    "    chess_map.append(row)\n",
    "\n",
    "# print(chess_map)\n",
    "\n",
    "cnt = 0\n",
    "max_cnt = 0\n",
    "\n",
    "def search(x_init, y_init, eq_ab, eq_sum, size):\n",
    "    cnt = 0\n",
    "    for x in range(x_init, size):\n",
    "        for y in range(y_init, size):\n",
    "            test_ab = x - y\n",
    "            test_sum = x + y\n",
    "\n",
    "            if test_ab in eq_ab and test_sum in eq_sum and test_map[x][y] == 1:\n",
    "                cnt += 1\n",
    "                eq_sum.remove(test_sum)\n",
    "                eq_ab.remove(test_ab)\n",
    "\n",
    "            if len(eq_sum) == 0 or len(eq_ab) == 0:\n",
    "                return cnt\n",
    "    return cnt\n",
    "\n",
    "for x_init in range(size):\n",
    "    for y_init in range(size):\n",
    "        test_map = chess_map\n",
    "        test_eq_sum = list(range(2 * size - 1))\n",
    "        test_eq_ab = list(range(-size + 1, size))\n",
    "\n",
    "        if test_map[x_init][y_init] == 1:\n",
    "            ab = x_init - y_init\n",
    "            su = x_init + y_init\n",
    "\n",
    "            test_eq_sum.remove(su)\n",
    "            test_eq_ab.remove(ab)\n",
    "            cnt = 1\n",
    "        else:\n",
    "            continue\n",
    "        \n",
    "        for x in range(size):\n",
    "            for y in range(size):\n",
    "                output = search(x, y, test_eq_ab, test_eq_sum, size)\n",
    "                \n",
    "                if (cnt + output) >= max_cnt:\n",
    "                    max_cnt = (cnt + output)\n",
    "\n",
    "print(max_cnt)"
   ]
  },
  {
   "cell_type": "code",
   "execution_count": null,
   "metadata": {},
   "outputs": [],
   "source": [
    "size = 5\n",
    "eq_sum = list(range(2 * size - 1))\n",
    "eq_ab = list(range(-size + 1, size))\n",
    "chess_map = [[1,1,0,1,1],[0,1,0,0,0],[1,0,1,0,1],[1,0,0,0,0],[1,0,1,1,1]]\n",
    "\n",
    "# size = int(input())\n",
    "# chess_map = []\n",
    "\n",
    "eq_sum = list(range(2 * size - 1))\n",
    "eq_ab = list(range(-size + 1, size))\n",
    "\n",
    "print(eq_sum)\n",
    "print(eq_ab)\n",
    "\n",
    "\n",
    "# for i in range(size):\n",
    "#     test = input().split()\n",
    "#     row = [int(x) for x in test]\n",
    "#     chess_map.append(row)\n",
    "\n",
    "# print(chess_map)\n",
    "\n",
    "cnt = 0\n",
    "max_cnt = 0\n",
    "\n",
    "for idx in range(size*size):\n",
    "    x_axis = size // 5\n",
    "    y_axis = size % 5\n",
    "    \n",
    "    if chess_map[x_axis][y_axis] == 1:\n",
    "        pass\n",
    "    else:\n",
    "        pass"
   ]
  },
  {
   "cell_type": "code",
   "execution_count": null,
   "metadata": {},
   "outputs": [],
   "source": []
  }
 ],
 "metadata": {
  "kernelspec": {
   "display_name": "Python 3",
   "language": "python",
   "name": "python3"
  },
  "language_info": {
   "codemirror_mode": {
    "name": "ipython",
    "version": 3
   },
   "file_extension": ".py",
   "mimetype": "text/x-python",
   "name": "python",
   "nbconvert_exporter": "python",
   "pygments_lexer": "ipython3",
   "version": "3.11.7"
  }
 },
 "nbformat": 4,
 "nbformat_minor": 2
}

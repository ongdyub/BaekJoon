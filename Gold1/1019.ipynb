{
 "cells": [
  {
   "cell_type": "code",
   "execution_count": null,
   "metadata": {},
   "outputs": [],
   "source": [
    "totalpage = int(input())\n",
    "\n",
    "number = [0]*10\n",
    "\n",
    "for page in range(1,totalpage+1):\n",
    "    while(page > 0):\n",
    "        number[page%10] += 1\n",
    "        page //= 10\n",
    "\n",
    "for i in range(0,10):\n",
    "    print(str(number[i]), end=\" \")"
   ]
  },
  {
   "cell_type": "code",
   "execution_count": 32,
   "metadata": {},
   "outputs": [
    {
     "name": "stdout",
     "output_type": "stream",
     "text": [
      "788888906 900000003 900000000 900000000 900000000 900000000 900000000 900000000 900000000 900000000"
     ]
    }
   ],
   "source": [
    "# totalpage = int(input())\n",
    "totalpage = 1000000001\n",
    "or_p = totalpage\n",
    "\n",
    "cnt = [0,0,0,0,0,0,0,0,0,0]\n",
    "digit = 1\n",
    "\n",
    "while totalpage != 0:\n",
    "    # totalpage = mul | add\n",
    "    mul = totalpage // 10 # 1 -> 0\n",
    "    add = totalpage % 10 # 1 -> 1\n",
    "    de_add = or_p % digit # 0 -> 1\n",
    "\n",
    "    # cnt[0:(add+1)] += ((mul + 1) * digit)\n",
    "    for i in range(add+1):\n",
    "        cnt[i] += (mul + 1) * digit\n",
    "\n",
    "    # cnt[(add+1):] += (mul * digit)\n",
    "    for i in range(add+1,10):\n",
    "        cnt[i] += mul * digit\n",
    "\n",
    "    cnt[0] -= digit\n",
    "\n",
    "    cnt[add] -= ((digit - 1) - de_add)\n",
    "    # print(cnt)\n",
    "\n",
    "    totalpage = mul\n",
    "    digit *= 10\n",
    "\n",
    "for i, item in enumerate(cnt):\n",
    "    print(item, end=\"\")  # Print the element\n",
    "    if i != len(cnt) - 1:\n",
    "        print(\" \", end=\"\")  # Add a space unless it's the last element"
   ]
  },
  {
   "cell_type": "code",
   "execution_count": 16,
   "metadata": {},
   "outputs": [
    {
     "name": "stdout",
     "output_type": "stream",
     "text": [
      "1\n"
     ]
    }
   ],
   "source": [
    "print(11//10)"
   ]
  },
  {
   "cell_type": "code",
   "execution_count": null,
   "metadata": {},
   "outputs": [],
   "source": []
  }
 ],
 "metadata": {
  "kernelspec": {
   "display_name": "Python 3",
   "language": "python",
   "name": "python3"
  },
  "language_info": {
   "codemirror_mode": {
    "name": "ipython",
    "version": 3
   },
   "file_extension": ".py",
   "mimetype": "text/x-python",
   "name": "python",
   "nbconvert_exporter": "python",
   "pygments_lexer": "ipython3",
   "version": "3.10.8"
  },
  "orig_nbformat": 4
 },
 "nbformat": 4,
 "nbformat_minor": 2
}

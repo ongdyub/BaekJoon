{
 "cells": [
  {
   "cell_type": "code",
   "execution_count": 25,
   "metadata": {},
   "outputs": [],
   "source": [
    "init_dict = [{'idx':1, 'v':5,'u':0}, {'idx':2, 'v':4,'u':0}, {'idx':3, 'v':3,'u':0}, {'idx':4, 'v':2,'u':0}, {'idx':5, 'v':1,'u':0}]\n",
    "\n",
    "sorted_dict = sorted(init_dict, key=lambda x: (x['v'], x['idx']))"
   ]
  },
  {
   "cell_type": "code",
   "execution_count": 26,
   "metadata": {},
   "outputs": [
    {
     "name": "stdout",
     "output_type": "stream",
     "text": [
      "[{'idx': 5, 'v': 1, 'u': 0}, {'idx': 4, 'v': 2, 'u': 0}, {'idx': 3, 'v': 3, 'u': 0}, {'idx': 2, 'v': 4, 'u': 0}, {'idx': 1, 'v': 5, 'u': 0}]\n"
     ]
    }
   ],
   "source": [
    "print(sorted_dict)"
   ]
  },
  {
   "cell_type": "code",
   "execution_count": 27,
   "metadata": {},
   "outputs": [],
   "source": [
    "command = [[2,1,3],[2,1,4],[1,5,3],[2,3,5],[1,4,3],[2,3,5]]"
   ]
  },
  {
   "cell_type": "code",
   "execution_count": 28,
   "metadata": {},
   "outputs": [
    {
     "name": "stdout",
     "output_type": "stream",
     "text": [
      "[0, 0, 0, 0, 0, 0]\n"
     ]
    }
   ],
   "source": [
    "updated = [0] * 6\n",
    "print(updated)"
   ]
  },
  {
   "cell_type": "code",
   "execution_count": 29,
   "metadata": {},
   "outputs": [
    {
     "name": "stdout",
     "output_type": "stream",
     "text": [
      "3\n",
      "[{'idx': 5, 'v': 1, 'u': 0}, {'idx': 4, 'v': 2, 'u': 0}, {'idx': 3, 'v': 3, 'u': 0}, {'idx': 2, 'v': 4, 'u': 0}, {'idx': 1, 'v': 5, 'u': 0}]\n",
      "4\n",
      "[{'idx': 5, 'v': 1, 'u': 0}, {'idx': 4, 'v': 2, 'u': 0}, {'idx': 3, 'v': 3, 'u': 0}, {'idx': 2, 'v': 4, 'u': 0}, {'idx': 1, 'v': 5, 'u': 0}]\n",
      "[{'idx': 5, 'v': 1, 'u': 0}, {'idx': 4, 'v': 2, 'u': 0}, {'idx': 3, 'v': 3, 'u': 0}, {'idx': 5, 'v': 3, 'u': 1}, {'idx': 2, 'v': 4, 'u': 0}, {'idx': 1, 'v': 5, 'u': 0}]\n",
      "4\n",
      "[{'idx': 5, 'v': 1, 'u': 0}, {'idx': 4, 'v': 2, 'u': 0}, {'idx': 3, 'v': 3, 'u': 0}, {'idx': 5, 'v': 3, 'u': 1}, {'idx': 2, 'v': 4, 'u': 0}, {'idx': 1, 'v': 5, 'u': 0}]\n",
      "[{'idx': 5, 'v': 1, 'u': 0}, {'idx': 4, 'v': 2, 'u': 0}, {'idx': 3, 'v': 3, 'u': 0}, {'idx': 4, 'v': 3, 'u': 1}, {'idx': 5, 'v': 3, 'u': 1}, {'idx': 2, 'v': 4, 'u': 0}, {'idx': 1, 'v': 5, 'u': 0}]\n",
      "3\n",
      "[{'idx': 5, 'v': 1, 'u': 0}, {'idx': 4, 'v': 2, 'u': 0}, {'idx': 3, 'v': 3, 'u': 0}, {'idx': 4, 'v': 3, 'u': 1}, {'idx': 5, 'v': 3, 'u': 1}, {'idx': 2, 'v': 4, 'u': 0}, {'idx': 1, 'v': 5, 'u': 0}]\n"
     ]
    }
   ],
   "source": [
    "for c in range(6):\n",
    "    if command[c][0] == 1:\n",
    "        updated[command[c][1]] += 1\n",
    "        new_dict = {'idx': command[c][1], 'v': command[c][2], 'u': updated[command[c][1]]}\n",
    "        for x in range(5):\n",
    "            if sorted_dict[x]['v'] == command[c][2] and sorted_dict[x]['idx'] >= command[c][1]:\n",
    "                sorted_dict.insert(x, new_dict)\n",
    "                break\n",
    "            if sorted_dict[x]['v'] >= command[c][2]:\n",
    "                sorted_dict.insert(x+1, new_dict)\n",
    "                break\n",
    "        pass\n",
    "    else:\n",
    "        i = command[c][1]\n",
    "        j = command[c][2]\n",
    "        for x in range(5):\n",
    "            if i <= sorted_dict[x]['idx'] and sorted_dict[x]['idx'] <= j and sorted_dict[x]['u'] == updated[sorted_dict[x]['idx']]:\n",
    "                print(sorted_dict[x]['idx'])\n",
    "                break\n",
    "        pass\n",
    "    \n",
    "    print(sorted_dict)"
   ]
  },
  {
   "cell_type": "code",
   "execution_count": 30,
   "metadata": {},
   "outputs": [],
   "source": [
    "test = [5,2,1,3]\n",
    "test.insert(2,623412)"
   ]
  },
  {
   "cell_type": "code",
   "execution_count": 31,
   "metadata": {},
   "outputs": [
    {
     "name": "stdout",
     "output_type": "stream",
     "text": [
      "[5, 2, 623412, 1, 3]\n"
     ]
    }
   ],
   "source": [
    "print(test)"
   ]
  },
  {
   "cell_type": "code",
   "execution_count": 32,
   "metadata": {},
   "outputs": [
    {
     "name": "stdout",
     "output_type": "stream",
     "text": [
      "1\n"
     ]
    }
   ],
   "source": [
    "n = int(input())\n",
    "print(n)"
   ]
  },
  {
   "cell_type": "code",
   "execution_count": 35,
   "metadata": {},
   "outputs": [
    {
     "name": "stdout",
     "output_type": "stream",
     "text": [
      "[5, 2, 1]\n"
     ]
    }
   ],
   "source": [
    "a = list(map(int, input().split()))\n",
    "print(a)"
   ]
  },
  {
   "cell_type": "code",
   "execution_count": 37,
   "metadata": {},
   "outputs": [
    {
     "name": "stdout",
     "output_type": "stream",
     "text": [
      "3\n",
      "4\n",
      "4\n",
      "3\n"
     ]
    }
   ],
   "source": [
    "N = int(input())\n",
    "init_dict = []\n",
    "init_list = list(map(int, input().split()))\n",
    "\n",
    "for i in range(N):\n",
    "    el = {'idx': i+1, 'v': init_list[i], 'u':0}\n",
    "    init_dict.append(el)\n",
    "    \n",
    "sorted_dict = sorted(init_dict, key=lambda x: (x['v'], x['idx']))\n",
    "\n",
    "C = int(input())\n",
    "command = []\n",
    "for c in range(C):\n",
    "    c_list = list(map(int, input().split()))\n",
    "    command.append(c_list)\n",
    "    \n",
    "updated = [0] * (N+1)\n",
    "\n",
    "for c in range(C):\n",
    "    if command[c][0] == 1:\n",
    "        updated[command[c][1]] += 1\n",
    "        new_dict = {'idx': command[c][1], 'v': command[c][2], 'u': updated[command[c][1]]}\n",
    "        for x in range(len(sorted_dict)):\n",
    "            if sorted_dict[x]['v'] == command[c][2] and sorted_dict[x]['idx'] >= command[c][1]:\n",
    "                sorted_dict.insert(x, new_dict)\n",
    "                break\n",
    "            if sorted_dict[x]['v'] >= command[c][2]:\n",
    "                sorted_dict.insert(x+1, new_dict)\n",
    "                break\n",
    "        pass\n",
    "    else:\n",
    "        i = command[c][1]\n",
    "        j = command[c][2]\n",
    "        for x in range(len(sorted_dict)):\n",
    "            if i <= sorted_dict[x]['idx'] and sorted_dict[x]['idx'] <= j and sorted_dict[x]['u'] == updated[sorted_dict[x]['idx']]:\n",
    "                print(sorted_dict[x]['idx'])\n",
    "                break\n",
    "        pass\n",
    "    \n",
    "    #print(sorted_dict)"
   ]
  }
 ],
 "metadata": {
  "kernelspec": {
   "display_name": "Python 3",
   "language": "python",
   "name": "python3"
  },
  "language_info": {
   "codemirror_mode": {
    "name": "ipython",
    "version": 3
   },
   "file_extension": ".py",
   "mimetype": "text/x-python",
   "name": "python",
   "nbconvert_exporter": "python",
   "pygments_lexer": "ipython3",
   "version": "3.11.7"
  }
 },
 "nbformat": 4,
 "nbformat_minor": 2
}

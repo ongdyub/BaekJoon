{
 "cells": [
  {
   "cell_type": "code",
   "execution_count": 6,
   "metadata": {},
   "outputs": [
    {
     "name": "stdout",
     "output_type": "stream",
     "text": [
      "[269, 208, 269]\n"
     ]
    }
   ],
   "source": [
    "n = int(input())\n",
    "\n",
    "RGB = [0] * n\n",
    "cost = [0,0,0]\n",
    "\n",
    "for i in range(n):\n",
    "    RGB[i] = list(map(int, input().split()))\n",
    "\n",
    "cost = RGB[0]\n",
    "\n",
    "for i in range(1, n):\n",
    "    if(cost[1] < cost[2]):\n",
    "        R_cost = RGB[i][0] + cost[1]\n",
    "    else:\n",
    "        R_cost = RGB[i][0] + cost[2]\n",
    "        \n",
    "    if(cost[0] < cost[2]):\n",
    "        G_cost = RGB[i][1] + cost[0]\n",
    "    else:\n",
    "        G_cost = RGB[i][1] + cost[2]\n",
    "        \n",
    "    if(cost[0] < cost[1]):\n",
    "        B_cost = RGB[i][2] + cost[0]\n",
    "    else:\n",
    "        B_cost = RGB[i][2] + cost[1]\n",
    "        \n",
    "    cost[0] = R_cost\n",
    "    cost[1] = G_cost\n",
    "    cost[2] = B_cost\n",
    "\n",
    "print(min(cost))\n"
   ]
  },
  {
   "cell_type": "code",
   "execution_count": 7,
   "metadata": {},
   "outputs": [
    {
     "name": "stdout",
     "output_type": "stream",
     "text": [
      "208\n"
     ]
    }
   ],
   "source": [
    "print(min(cost))"
   ]
  },
  {
   "cell_type": "code",
   "execution_count": null,
   "metadata": {},
   "outputs": [],
   "source": []
  }
 ],
 "metadata": {
  "kernelspec": {
   "display_name": "Python 3",
   "language": "python",
   "name": "python3"
  },
  "language_info": {
   "codemirror_mode": {
    "name": "ipython",
    "version": 3
   },
   "file_extension": ".py",
   "mimetype": "text/x-python",
   "name": "python",
   "nbconvert_exporter": "python",
   "pygments_lexer": "ipython3",
   "version": "3.10.8"
  }
 },
 "nbformat": 4,
 "nbformat_minor": 2
}

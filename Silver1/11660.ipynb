{
 "cells": [
  {
   "cell_type": "code",
   "execution_count": 19,
   "metadata": {},
   "outputs": [
    {
     "name": "stdout",
     "output_type": "stream",
     "text": [
      "[[2, 8], [10, -4]]\n",
      "[[10, 0], [10, 0]]\n"
     ]
    }
   ],
   "source": [
    "\n",
    "n, m = map(int, input().split())\n",
    "\n",
    "matrix = [[0]*n]*n\n",
    "sum_matrix = [[0]*n]*n\n",
    "\n",
    "for i in range(n):\n",
    "    matrix[i] = list(map(int, input().split()))\n",
    "    \n",
    "for i in range(n):\n",
    "    for j in range(i):\n",
    "       sum_matrix[i][j] = sum(matrix[:i+1][:j+1][0])\n",
    "       \n",
    "print(matrix)\n",
    "print(sum_matrix)\n",
    "    "
   ]
  },
  {
   "cell_type": "code",
   "execution_count": 9,
   "metadata": {},
   "outputs": [
    {
     "name": "stdout",
     "output_type": "stream",
     "text": [
      "25\n"
     ]
    }
   ],
   "source": [
    "a = [13,4,21]\n",
    "print(sum(a[1:3]))"
   ]
  },
  {
   "cell_type": "code",
   "execution_count": 1,
   "metadata": {},
   "outputs": [
    {
     "name": "stdout",
     "output_type": "stream",
     "text": [
      "[[2, 10], [4, 1]]\n",
      "[[12, 0], [12, 0]]\n"
     ]
    }
   ],
   "source": [
    "n, m = map(int, input().split())\n",
    "\n",
    "matrix = [[0] * n] * n\n",
    "sum_matrix = [[0] * n] * n\n",
    "\n",
    "for i in range(n):\n",
    "    matrix[i] = list(map(int, input().split()))\n",
    "\n",
    "for i in range(n):\n",
    "    for j in range(i):\n",
    "        sum_matrix[i][j] = sum(matrix[: i + 1][: j + 1][0])\n",
    "\n",
    "print(matrix)\n",
    "print(sum_matrix)"
   ]
  }
 ],
 "metadata": {
  "kernelspec": {
   "display_name": "Python 3",
   "language": "python",
   "name": "python3"
  },
  "language_info": {
   "codemirror_mode": {
    "name": "ipython",
    "version": 3
   },
   "file_extension": ".py",
   "mimetype": "text/x-python",
   "name": "python",
   "nbconvert_exporter": "python",
   "pygments_lexer": "ipython3",
   "version": "3.10.8"
  }
 },
 "nbformat": 4,
 "nbformat_minor": 2
}

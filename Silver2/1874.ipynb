{
 "cells": [
  {
   "cell_type": "code",
   "execution_count": 6,
   "metadata": {},
   "outputs": [
    {
     "name": "stdout",
     "output_type": "stream",
     "text": [
      "+\n",
      "+\n",
      "+\n",
      "+\n",
      "-\n",
      "-\n",
      "+\n",
      "+\n",
      "-\n",
      "+\n",
      "+\n",
      "-\n",
      "-\n",
      "-\n",
      "-\n",
      "-\n"
     ]
    }
   ],
   "source": [
    "from collections import deque\n",
    "\n",
    "n = int(input())\n",
    "Q = deque()\n",
    "candidate = 1\n",
    "ans = ''\n",
    "NO = False\n",
    "p_cnt = 0\n",
    "\n",
    "while p_cnt < n:\n",
    "    cur = int(input())\n",
    "    \n",
    "    while True:\n",
    "        if cur > candidate:\n",
    "            ans += '+'\n",
    "            Q.append(candidate)\n",
    "            candidate += 1\n",
    "        elif cur == candidate:\n",
    "            ans += '+-'\n",
    "            candidate += 1\n",
    "            p_cnt += 1\n",
    "            break\n",
    "        else:\n",
    "            remain = Q.pop()\n",
    "            if cur == remain:\n",
    "                ans += '-'\n",
    "                p_cnt += 1\n",
    "                break\n",
    "            else:\n",
    "                ans = 'NO'\n",
    "                p_cnt = n\n",
    "                NO = True\n",
    "                break\n",
    "\n",
    "if NO:\n",
    "    print(\"NO\")\n",
    "else:\n",
    "    for s in ans:\n",
    "        print(s)\n",
    "        \n",
    "            \n",
    "    "
   ]
  }
 ],
 "metadata": {
  "kernelspec": {
   "display_name": "Python 3",
   "language": "python",
   "name": "python3"
  },
  "language_info": {
   "codemirror_mode": {
    "name": "ipython",
    "version": 3
   },
   "file_extension": ".py",
   "mimetype": "text/x-python",
   "name": "python",
   "nbconvert_exporter": "python",
   "pygments_lexer": "ipython3",
   "version": "3.11.7"
  }
 },
 "nbformat": 4,
 "nbformat_minor": 2
}
